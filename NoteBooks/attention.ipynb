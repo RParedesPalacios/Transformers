{
 "cells": [
  {
   "cell_type": "code",
   "execution_count": 1,
   "metadata": {},
   "outputs": [
    {
     "name": "stderr",
     "output_type": "stream",
     "text": [
      "/usr/local/lib/python3.10/site-packages/tqdm/auto.py:22: TqdmWarning: IProgress not found. Please update jupyter and ipywidgets. See https://ipywidgets.readthedocs.io/en/stable/user_install.html\n",
      "  from .autonotebook import tqdm as notebook_tqdm\n"
     ]
    }
   ],
   "source": [
    "#Attention mechanism\n",
    "import torch\n",
    "import torch.nn.functional as F\n"
   ]
  },
  {
   "cell_type": "code",
   "execution_count": 2,
   "metadata": {},
   "outputs": [
    {
     "name": "stdout",
     "output_type": "stream",
     "text": [
      "torch.Size([2, 3, 5])\n",
      "tensor([[[ 1.,  1.,  0.,  0.,  0.],\n",
      "         [-1., -1.,  0.,  0.,  0.],\n",
      "         [ 1.,  1.,  1.,  0.,  1.]],\n",
      "\n",
      "        [[ 1.,  1.,  0.,  0.,  0.],\n",
      "         [-1., -1.,  0.,  0.,  0.],\n",
      "         [ 1.,  1.,  1.,  0.,  1.]]])\n",
      "torch.Size([2, 3, 3])\n",
      "tensor([[[ 2., -2.,  2.],\n",
      "         [-2.,  2., -2.],\n",
      "         [ 2., -2.,  4.]],\n",
      "\n",
      "        [[ 2., -2.,  2.],\n",
      "         [-2.,  2., -2.],\n",
      "         [ 2., -2.,  4.]]])\n"
     ]
    }
   ],
   "source": [
    "X=torch.tensor([ [ [1.0,1.0,0.0,0.0,0 ],[-1.0,-1.0,0.0,0.0,0], [1.0,1.0,1.0,0.0,1] ],[[1.0,1.0,0.0,0.0,0 ],[-1.0,-1.0,0.0,0.0,0], [1.0,1.0,1.0,0.0,1] ]])\n",
    "\n",
    "print(X.shape)\n",
    "print(X)\n",
    "\n",
    "B,N,D = X.shape\n",
    "K=X\n",
    "Q=X\n",
    "V=X\n",
    "\n",
    "energy = torch.einsum('bqd, bkd -> bqk', Q, K)\n",
    "\n",
    "print(energy.shape)\n",
    "print(energy)\n",
    "\n"
   ]
  },
  {
   "cell_type": "code",
   "execution_count": 3,
   "metadata": {},
   "outputs": [
    {
     "name": "stdout",
     "output_type": "stream",
     "text": [
      "torch.Size([2, 3, 3])\n",
      "tensor([[[0.4955, 0.0091, 0.4955],\n",
      "         [0.0177, 0.9647, 0.0177],\n",
      "         [0.1189, 0.0022, 0.8789]],\n",
      "\n",
      "        [[0.4955, 0.0091, 0.4955],\n",
      "         [0.0177, 0.9647, 0.0177],\n",
      "         [0.1189, 0.0022, 0.8789]]])\n"
     ]
    }
   ],
   "source": [
    "\n",
    "\n",
    "att = F.softmax(energy, dim=-1)\n",
    "\n",
    "print(att.shape)\n",
    "print(att)\n"
   ]
  },
  {
   "cell_type": "code",
   "execution_count": 4,
   "metadata": {},
   "outputs": [
    {
     "name": "stdout",
     "output_type": "stream",
     "text": [
      "torch.Size([2, 3, 5])\n",
      "tensor([[[ 1.,  1.,  0.,  0.,  0.],\n",
      "         [-1., -1.,  0.,  0.,  0.],\n",
      "         [ 1.,  1.,  1.,  0.,  1.]],\n",
      "\n",
      "        [[ 1.,  1.,  0.,  0.,  0.],\n",
      "         [-1., -1.,  0.,  0.,  0.],\n",
      "         [ 1.,  1.,  1.,  0.,  1.]]])\n",
      "tensor([[[ 0.9819,  0.9819,  0.4955,  0.0000,  0.4955],\n",
      "         [-0.9293, -0.9293,  0.0177,  0.0000,  0.0177],\n",
      "         [ 0.9956,  0.9956,  0.8789,  0.0000,  0.8789]],\n",
      "\n",
      "        [[ 0.9819,  0.9819,  0.4955,  0.0000,  0.4955],\n",
      "         [-0.9293, -0.9293,  0.0177,  0.0000,  0.0177],\n",
      "         [ 0.9956,  0.9956,  0.8789,  0.0000,  0.8789]]])\n"
     ]
    }
   ],
   "source": [
    "out = torch.einsum('bal, blv -> bav ', att, V)\n",
    "\n",
    "print(out.shape)\n",
    "print(V)\n",
    "print(out)\n"
   ]
  },
  {
   "cell_type": "code",
   "execution_count": 6,
   "metadata": {},
   "outputs": [
    {
     "name": "stdout",
     "output_type": "stream",
     "text": [
      "torch.Size([32, 64, 512])\n",
      "torch.Size([32, 64, 1536])\n"
     ]
    }
   ],
   "source": [
    "## MultiHeadAttention\n",
    "\n",
    "from einops import rearrange\n",
    "\n",
    "x=torch.randn(32,64,512)\n",
    "print(x.shape)\n",
    "B,N,D=x.shape\n",
    "H=8\n",
    "x=torch.nn.Linear(D, D * 3)(x)\n",
    "\n",
    "print(x.shape)\n"
   ]
  },
  {
   "cell_type": "code",
   "execution_count": 7,
   "metadata": {},
   "outputs": [
    {
     "name": "stdout",
     "output_type": "stream",
     "text": [
      "x :\n",
      "torch.Size([32, 64, 8, 64, 3])\n",
      "qkv :\n",
      "torch.Size([3, 32, 64, 8, 64])\n",
      "torch.Size([32, 64, 8, 64])\n",
      "torch.Size([32, 64, 8, 64])\n",
      "torch.Size([32, 64, 8, 64])\n",
      "Correlation, attention energy:\n",
      "torch.Size([32, 64, 8, 8])\n"
     ]
    }
   ],
   "source": [
    "\n",
    "#qkv = rearrange(self.qkv(x), \"b n (h d qkv) -> (qkv) b h n d\", h=self.num_heads, qkv=3)\n",
    "\n",
    "print(\"x :\")\n",
    "x = rearrange(x, \"b n (h d qkv) -> b n h d qkv\", h=H, qkv=3)\n",
    "print(x.shape)\n",
    "\n",
    "print(\"qkv :\")\n",
    "qkv = rearrange(x, \"b h n d qkv -> qkv b h n d\")\n",
    "print(qkv.shape)\n",
    "\n",
    "print(qkv[0].shape)\n",
    "print(qkv[1].shape)\n",
    "print(qkv[2].shape)\n",
    "\n",
    "print(\"Correlation, attention energy:\")\n",
    "energy = torch.einsum('bhqd, bhkd -> bhqk', qkv[0], qkv[1]) \n",
    "print(energy.shape)\n"
   ]
  }
 ],
 "metadata": {
  "kernelspec": {
   "display_name": "Python 3",
   "language": "python",
   "name": "python3"
  },
  "language_info": {
   "codemirror_mode": {
    "name": "ipython",
    "version": 3
   },
   "file_extension": ".py",
   "mimetype": "text/x-python",
   "name": "python",
   "nbconvert_exporter": "python",
   "pygments_lexer": "ipython3",
   "version": "3.10.6"
  },
  "orig_nbformat": 4,
  "vscode": {
   "interpreter": {
    "hash": "aee8b7b246df8f9039afb4144a1f6fd8d2ca17a180786b69acc140d282b71a49"
   }
  }
 },
 "nbformat": 4,
 "nbformat_minor": 2
}
