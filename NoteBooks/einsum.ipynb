{
 "cells": [
  {
   "cell_type": "code",
   "execution_count": null,
   "metadata": {},
   "outputs": [],
   "source": [
    "import torch\n",
    "a = torch.arange(6).reshape(2, 3)\n",
    "\n",
    "print(a)\n",
    "\n",
    "\n",
    "print(\"Transpose\")\n",
    "b=torch.einsum('ij->ji', a)\n",
    "print(b)\n",
    "\n",
    "print(\"Sum rows\")\n",
    "b=torch.einsum('ij->j', a)\n",
    "print(b)\n"
   ]
  },
  {
   "cell_type": "code",
   "execution_count": null,
   "metadata": {},
   "outputs": [],
   "source": [
    "a = torch.arange(6).reshape(2, 3)\n",
    "b = torch.arange(15).reshape(3, 5)\n",
    "\n",
    "print(\"Matrix multiplication\")\n",
    "c=torch.einsum('ik,kj->ij', a,b)\n",
    "print(c)\n"
   ]
  },
  {
   "cell_type": "code",
   "execution_count": null,
   "metadata": {},
   "outputs": [],
   "source": [
    "a = torch.arange(3)\n",
    "b = torch.arange(3,6)  \n",
    "print(a)\n",
    "print(b)\n",
    "\n",
    "print(\"Dot product\")\n",
    "c=torch.einsum('i,i->', [a, b])\n",
    "print(c)\n"
   ]
  },
  {
   "cell_type": "code",
   "execution_count": null,
   "metadata": {},
   "outputs": [],
   "source": [
    "a = torch.arange(6).reshape(2, 3)\n",
    "b = torch.arange(6,12).reshape(2, 3)\n",
    "print(a)\n",
    "print(b)\n",
    "\n",
    "print(\"Matrix dot product\")\n",
    "c=torch.einsum('ij,ij->', [a, b])\n",
    "print(c)\n",
    "\n",
    "print(\"Matrix element-wise product\")\n",
    "c=torch.einsum('ij,ij->ij', [a, b])\n",
    "print(c)"
   ]
  },
  {
   "cell_type": "code",
   "execution_count": null,
   "metadata": {},
   "outputs": [],
   "source": [
    "a = torch.arange(3)\n",
    "b = torch.arange(3,7)  # -- a vector of length 4 containing [3, 4, 5, 6]\n",
    "print(a)\n",
    "print(b)\n",
    "\n",
    "print(\"Outert product\")\n",
    "c=torch.einsum('i,j->ij', [a, b])\n",
    "print(c)"
   ]
  },
  {
   "cell_type": "code",
   "execution_count": null,
   "metadata": {},
   "outputs": [],
   "source": [
    "a = torch.randn(3,2,5)\n",
    "b = torch.randn(3,5,3)\n",
    "print(\"Batch matrix multiplication\") #B=3\n",
    "print(a.shape,\"x\",b.shape)\n",
    "c=torch.einsum('ijk,ikl->ijl', a, b)\n",
    "print(c.shape)\n",
    "\n"
   ]
  },
  {
   "cell_type": "code",
   "execution_count": null,
   "metadata": {},
   "outputs": [],
   "source": [
    "print(\"Tensor contraction\")\n",
    "a = torch.randn(2,3,5,7)\n",
    "b = torch.randn(11,13,3,17,5)\n",
    "\n",
    "# common q=3 and r=5\n",
    "# C_pstuv=∑_q∑_r Apqrs * Btuqvr\n",
    "c=torch.einsum('pqrs,tuqvr->pstuv', [a, b])\n",
    "print(c.shape)"
   ]
  },
  {
   "cell_type": "code",
   "execution_count": null,
   "metadata": {},
   "outputs": [],
   "source": [
    "from einops import rearrange\n",
    "\n",
    "a = torch.randn(2,3,5,7)\n",
    "\n",
    "print(\"Tensor rearrange, permutaion and join\")\n",
    "b = rearrange(a, \"b h n d -> b n (h d)\")\n",
    "print(b.shape)\n",
    "\n",
    "c = rearrange(b, \"b n (h d) -> d b h n\",h=3)\n",
    "print(c.shape)"
   ]
  }
 ],
 "metadata": {
  "kernelspec": {
   "display_name": "Python 3",
   "language": "python",
   "name": "python3"
  },
  "language_info": {
   "codemirror_mode": {
    "name": "ipython",
    "version": 3
   },
   "file_extension": ".py",
   "mimetype": "text/x-python",
   "name": "python",
   "nbconvert_exporter": "python",
   "pygments_lexer": "ipython3",
   "version": "3.10.6"
  },
  "orig_nbformat": 4,
  "vscode": {
   "interpreter": {
    "hash": "aee8b7b246df8f9039afb4144a1f6fd8d2ca17a180786b69acc140d282b71a49"
   }
  }
 },
 "nbformat": 4,
 "nbformat_minor": 2
}
