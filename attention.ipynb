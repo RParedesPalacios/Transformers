{
 "cells": [
  {
   "cell_type": "code",
   "execution_count": 1,
   "metadata": {},
   "outputs": [
    {
     "name": "stderr",
     "output_type": "stream",
     "text": [
      "/usr/local/lib/python3.10/site-packages/tqdm/auto.py:22: TqdmWarning: IProgress not found. Please update jupyter and ipywidgets. See https://ipywidgets.readthedocs.io/en/stable/user_install.html\n",
      "  from .autonotebook import tqdm as notebook_tqdm\n"
     ]
    }
   ],
   "source": [
    "#Attention mechanism\n",
    "import torch\n",
    "import torch.nn.functional as F\n"
   ]
  },
  {
   "cell_type": "code",
   "execution_count": 2,
   "metadata": {},
   "outputs": [
    {
     "name": "stdout",
     "output_type": "stream",
     "text": [
      "torch.Size([2, 3, 5])\n",
      "tensor([[[ 1.,  1.,  0.,  0.,  0.],\n",
      "         [-1., -1.,  0.,  0.,  0.],\n",
      "         [ 1.,  1.,  1.,  0.,  1.]],\n",
      "\n",
      "        [[ 1.,  1.,  0.,  0.,  0.],\n",
      "         [-1., -1.,  0.,  0.,  0.],\n",
      "         [ 1.,  1.,  1.,  0.,  1.]]])\n"
     ]
    },
    {
     "ename": "NameError",
     "evalue": "name 'K' is not defined",
     "output_type": "error",
     "traceback": [
      "\u001b[0;31m---------------------------------------------------------------------------\u001b[0m",
      "\u001b[0;31mNameError\u001b[0m                                 Traceback (most recent call last)",
      "Cell \u001b[0;32mIn [2], line 6\u001b[0m\n\u001b[1;32m      3\u001b[0m \u001b[39mprint\u001b[39m(X\u001b[39m.\u001b[39mshape)\n\u001b[1;32m      4\u001b[0m \u001b[39mprint\u001b[39m(X)\n\u001b[0;32m----> 6\u001b[0m B,N,D \u001b[39m=\u001b[39m K\u001b[39m.\u001b[39mshape\n\u001b[1;32m      7\u001b[0m K\u001b[39m=\u001b[39mX\n\u001b[1;32m      8\u001b[0m Q\u001b[39m=\u001b[39mX\n",
      "\u001b[0;31mNameError\u001b[0m: name 'K' is not defined"
     ]
    }
   ],
   "source": [
    "X=torch.tensor([ [ [1.0,1.0,0.0,0.0,0 ],[-1.0,-1.0,0.0,0.0,0], [1.0,1.0,1.0,0.0,1] ],[[1.0,1.0,0.0,0.0,0 ],[-1.0,-1.0,0.0,0.0,0], [1.0,1.0,1.0,0.0,1] ]])\n",
    "\n",
    "print(X.shape)\n",
    "print(X)\n",
    "\n",
    "B,N,D = X.shape\n",
    "K=X\n",
    "Q=X\n",
    "V=X\n",
    "\n",
    "energy = torch.einsum('bqd, bkd -> bqk', Q, K)\n",
    "\n",
    "print(energy.shape)\n",
    "print(energy)\n",
    "\n"
   ]
  },
  {
   "cell_type": "code",
   "execution_count": null,
   "metadata": {},
   "outputs": [],
   "source": [
    "\n",
    "\n",
    "att = F.softmax(energy, dim=-1)\n",
    "\n",
    "print(att.shape)\n",
    "print(att)\n"
   ]
  },
  {
   "cell_type": "code",
   "execution_count": null,
   "metadata": {},
   "outputs": [],
   "source": [
    "out = torch.einsum('bal, blv -> bav ', att, V)\n",
    "\n",
    "print(out.shape)\n",
    "print(V)\n",
    "print(out)"
   ]
  }
 ],
 "metadata": {
  "kernelspec": {
   "display_name": "Python 3",
   "language": "python",
   "name": "python3"
  },
  "language_info": {
   "codemirror_mode": {
    "name": "ipython",
    "version": 3
   },
   "file_extension": ".py",
   "mimetype": "text/x-python",
   "name": "python",
   "nbconvert_exporter": "python",
   "pygments_lexer": "ipython3",
   "version": "3.10.6"
  },
  "orig_nbformat": 4,
  "vscode": {
   "interpreter": {
    "hash": "aee8b7b246df8f9039afb4144a1f6fd8d2ca17a180786b69acc140d282b71a49"
   }
  }
 },
 "nbformat": 4,
 "nbformat_minor": 2
}
