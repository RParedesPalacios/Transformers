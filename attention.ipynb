{
 "cells": [
  {
   "cell_type": "code",
   "execution_count": 3,
   "metadata": {},
   "outputs": [],
   "source": [
    "#Attention mechanism\n",
    "import torch\n",
    "import torch.nn.functional as F\n"
   ]
  },
  {
   "cell_type": "code",
   "execution_count": 25,
   "metadata": {},
   "outputs": [
    {
     "name": "stdout",
     "output_type": "stream",
     "text": [
      "torch.Size([2, 3, 5])\n",
      "tensor([[[ 1.,  1.,  0.,  0.,  0.],\n",
      "         [-1., -1.,  0.,  0.,  0.],\n",
      "         [ 1.,  1.,  1.,  0.,  1.]],\n",
      "\n",
      "        [[ 1.,  1.,  0.,  0.,  0.],\n",
      "         [-1., -1.,  0.,  0.,  0.],\n",
      "         [ 1.,  1.,  1.,  0.,  1.]]])\n",
      "torch.Size([2, 3, 3])\n",
      "tensor([[[ 2., -2.,  2.],\n",
      "         [-2.,  2., -2.],\n",
      "         [ 2., -2.,  4.]],\n",
      "\n",
      "        [[ 2., -2.,  2.],\n",
      "         [-2.,  2., -2.],\n",
      "         [ 2., -2.,  4.]]])\n"
     ]
    }
   ],
   "source": [
    "X=torch.tensor([ [ [1.0,1.0,0.0,0.0,0 ],[-1.0,-1.0,0.0,0.0,0], [1.0,1.0,1.0,0.0,1] ],[[1.0,1.0,0.0,0.0,0 ],[-1.0,-1.0,0.0,0.0,0], [1.0,1.0,1.0,0.0,1] ]])\n",
    "\n",
    "print(X.shape)\n",
    "print(X)\n",
    "\n",
    "B,N,D = K.shape\n",
    "K=X\n",
    "Q=X\n",
    "V=X\n",
    "\n",
    "energy = torch.einsum('bqd, bkd -> bqk', Q, K)\n",
    "\n",
    "print(energy.shape)\n",
    "print(energy)\n",
    "\n"
   ]
  },
  {
   "cell_type": "code",
   "execution_count": 26,
   "metadata": {},
   "outputs": [
    {
     "name": "stdout",
     "output_type": "stream",
     "text": [
      "torch.Size([2, 3, 3])\n",
      "tensor([[[0.4955, 0.0091, 0.4955],\n",
      "         [0.0177, 0.9647, 0.0177],\n",
      "         [0.1189, 0.0022, 0.8789]],\n",
      "\n",
      "        [[0.4955, 0.0091, 0.4955],\n",
      "         [0.0177, 0.9647, 0.0177],\n",
      "         [0.1189, 0.0022, 0.8789]]])\n"
     ]
    }
   ],
   "source": [
    "\n",
    "\n",
    "att = F.softmax(energy, dim=-1)\n",
    "\n",
    "print(att.shape)\n",
    "print(att)\n"
   ]
  },
  {
   "cell_type": "code",
   "execution_count": 23,
   "metadata": {},
   "outputs": [
    {
     "name": "stdout",
     "output_type": "stream",
     "text": [
      "torch.Size([2, 3, 5])\n",
      "tensor([[[ 1.,  1.,  0.,  0.,  0.],\n",
      "         [-1., -1.,  0.,  0.,  0.],\n",
      "         [ 1.,  1.,  1.,  0.,  1.]],\n",
      "\n",
      "        [[ 1.,  1.,  0.,  0.,  0.],\n",
      "         [-1., -1.,  0.,  0.,  0.],\n",
      "         [ 1.,  1.,  1.,  0.,  1.]]])\n",
      "tensor([[[ 0.9819,  0.9819,  0.4955,  0.0000,  0.4955],\n",
      "         [-0.9293, -0.9293,  0.0177,  0.0000,  0.0177],\n",
      "         [ 0.9956,  0.9956,  0.8789,  0.0000,  0.8789]],\n",
      "\n",
      "        [[ 0.9819,  0.9819,  0.4955,  0.0000,  0.4955],\n",
      "         [-0.9293, -0.9293,  0.0177,  0.0000,  0.0177],\n",
      "         [ 0.9956,  0.9956,  0.8789,  0.0000,  0.8789]]])\n"
     ]
    }
   ],
   "source": [
    "out = torch.einsum('bal, blv -> bav ', att, V)\n",
    "\n",
    "print(out.shape)\n",
    "print(V)\n",
    "print(out)"
   ]
  }
 ],
 "metadata": {
  "kernelspec": {
   "display_name": "Python 3",
   "language": "python",
   "name": "python3"
  },
  "language_info": {
   "codemirror_mode": {
    "name": "ipython",
    "version": 3
   },
   "file_extension": ".py",
   "mimetype": "text/x-python",
   "name": "python",
   "nbconvert_exporter": "python",
   "pygments_lexer": "ipython3",
   "version": "3.10.6"
  },
  "orig_nbformat": 4,
  "vscode": {
   "interpreter": {
    "hash": "aee8b7b246df8f9039afb4144a1f6fd8d2ca17a180786b69acc140d282b71a49"
   }
  }
 },
 "nbformat": 4,
 "nbformat_minor": 2
}
